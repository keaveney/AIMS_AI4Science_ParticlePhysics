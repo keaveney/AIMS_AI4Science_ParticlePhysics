{
 "cells": [
  {
   "cell_type": "markdown",
   "metadata": {},
   "source": [
    "# Part 2: Rediscover the Higgs boson"
   ]
  },
  {
   "cell_type": "code",
   "execution_count": 1,
   "metadata": {},
   "outputs": [],
   "source": [
    "import uproot as uproot\n",
    "import numpy as np\n",
    "import pandas as pd\n",
    "import vector\n",
    "import matplotlib.pyplot as plt\n",
    "import scipy.stats"
   ]
  },
  {
   "cell_type": "markdown",
   "metadata": {},
   "source": [
    "# Step 1: Access a the data file and convert into a 'pandas dataframe'.\n"
   ]
  },
  {
   "cell_type": "code",
   "execution_count": 2,
   "metadata": {},
   "outputs": [
    {
     "data": {
      "text/html": [
       "<div>\n",
       "<style scoped>\n",
       "    .dataframe tbody tr th:only-of-type {\n",
       "        vertical-align: middle;\n",
       "    }\n",
       "\n",
       "    .dataframe tbody tr th {\n",
       "        vertical-align: top;\n",
       "    }\n",
       "\n",
       "    .dataframe thead th {\n",
       "        text-align: right;\n",
       "    }\n",
       "</style>\n",
       "<table border=\"1\" class=\"dataframe\">\n",
       "  <thead>\n",
       "    <tr style=\"text-align: right;\">\n",
       "      <th></th>\n",
       "      <th>photon_pt</th>\n",
       "      <th>photon_eta</th>\n",
       "      <th>photon_phi</th>\n",
       "      <th>photon_E</th>\n",
       "      <th>diphoton_mass</th>\n",
       "    </tr>\n",
       "  </thead>\n",
       "  <tbody>\n",
       "    <tr>\n",
       "      <th>0</th>\n",
       "      <td>[35529.6875 29579.59765625]</td>\n",
       "      <td>[1.0483403205871582 1.2933013439178467]</td>\n",
       "      <td>[1.587436556816101 -1.533585548400879]</td>\n",
       "      <td>[56908.45703125 57963.6328125]</td>\n",
       "      <td>65320.367188</td>\n",
       "    </tr>\n",
       "    <tr>\n",
       "      <th>1</th>\n",
       "      <td>[176121.15625 39629.14453125]</td>\n",
       "      <td>[-0.8334919810295105 0.0947030708193779]</td>\n",
       "      <td>[-0.29423871636390686 0.5672937631607056]</td>\n",
       "      <td>[240922.3125 39806.98828125]</td>\n",
       "      <td>106420.710938</td>\n",
       "    </tr>\n",
       "    <tr>\n",
       "      <th>2</th>\n",
       "      <td>[100427.6796875 95522.5703125]</td>\n",
       "      <td>[1.7343542575836182 0.6880435943603516]</td>\n",
       "      <td>[0.6559551954269409 -2.4571521282196045]</td>\n",
       "      <td>[293338.34375 119039.1328125]</td>\n",
       "      <td>223294.968750</td>\n",
       "    </tr>\n",
       "    <tr>\n",
       "      <th>3</th>\n",
       "      <td>[38297.3046875 32480.755859375]</td>\n",
       "      <td>[0.05254824459552765 -0.8327684998512268]</td>\n",
       "      <td>[-1.5148577690124512 1.7095263004302979]</td>\n",
       "      <td>[38350.19140625 44409.64453125]</td>\n",
       "      <td>77508.187500</td>\n",
       "    </tr>\n",
       "    <tr>\n",
       "      <th>4</th>\n",
       "      <td>[45906.0859375 34899.7421875]</td>\n",
       "      <td>[0.560444176197052 -0.18553611636161804]</td>\n",
       "      <td>[-2.951354503631592 -0.023520486429333687]</td>\n",
       "      <td>[53306.27734375 35502.15625]</td>\n",
       "      <td>85259.531250</td>\n",
       "    </tr>\n",
       "    <tr>\n",
       "      <th>...</th>\n",
       "      <td>...</td>\n",
       "      <td>...</td>\n",
       "      <td>...</td>\n",
       "      <td>...</td>\n",
       "      <td>...</td>\n",
       "    </tr>\n",
       "    <tr>\n",
       "      <th>362857</th>\n",
       "      <td>[43045.76953125 40133.7265625]</td>\n",
       "      <td>[-0.058136601001024246 -0.9188442826271057]</td>\n",
       "      <td>[-2.6306653022766113 1.5349340438842773]</td>\n",
       "      <td>[43118.53515625 58301.69921875]</td>\n",
       "      <td>81317.265625</td>\n",
       "    </tr>\n",
       "    <tr>\n",
       "      <th>362858</th>\n",
       "      <td>[58404.52734375 31240.412109375]</td>\n",
       "      <td>[1.2870874404907227 0.5270840525627136]</td>\n",
       "      <td>[0.431402325630188 0.8467892408370972]</td>\n",
       "      <td>[113839.0390625 35681.3828125]</td>\n",
       "      <td>37628.792969</td>\n",
       "    </tr>\n",
       "    <tr>\n",
       "      <th>362859</th>\n",
       "      <td>[92575.0390625 86869.7265625]</td>\n",
       "      <td>[1.1143873929977417 2.2200980186462402]</td>\n",
       "      <td>[2.3199832439422607 -1.107298731803894]</td>\n",
       "      <td>[156258.1875 404675.3125]</td>\n",
       "      <td>205891.906250</td>\n",
       "    </tr>\n",
       "    <tr>\n",
       "      <th>362860</th>\n",
       "      <td>[77078.1171875 46948.61328125]</td>\n",
       "      <td>[0.8463831543922424 1.1342076063156128]</td>\n",
       "      <td>[-1.699459195137024 0.5268324613571167]</td>\n",
       "      <td>[106374.109375 80525.9375]</td>\n",
       "      <td>109320.015625</td>\n",
       "    </tr>\n",
       "    <tr>\n",
       "      <th>362861</th>\n",
       "      <td>[99188.9453125 28816.4296875]</td>\n",
       "      <td>[-1.6833628416061401 -2.2203824520111084]</td>\n",
       "      <td>[0.6304593682289124 -2.183976650238037]</td>\n",
       "      <td>[276210.375 134276.21875]</td>\n",
       "      <td>109426.585938</td>\n",
       "    </tr>\n",
       "  </tbody>\n",
       "</table>\n",
       "<p>362862 rows × 5 columns</p>\n",
       "</div>"
      ],
      "text/plain": [
       "                               photon_pt  \\\n",
       "0            [35529.6875 29579.59765625]   \n",
       "1          [176121.15625 39629.14453125]   \n",
       "2         [100427.6796875 95522.5703125]   \n",
       "3        [38297.3046875 32480.755859375]   \n",
       "4          [45906.0859375 34899.7421875]   \n",
       "...                                  ...   \n",
       "362857    [43045.76953125 40133.7265625]   \n",
       "362858  [58404.52734375 31240.412109375]   \n",
       "362859     [92575.0390625 86869.7265625]   \n",
       "362860    [77078.1171875 46948.61328125]   \n",
       "362861     [99188.9453125 28816.4296875]   \n",
       "\n",
       "                                         photon_eta  \\\n",
       "0           [1.0483403205871582 1.2933013439178467]   \n",
       "1          [-0.8334919810295105 0.0947030708193779]   \n",
       "2           [1.7343542575836182 0.6880435943603516]   \n",
       "3         [0.05254824459552765 -0.8327684998512268]   \n",
       "4          [0.560444176197052 -0.18553611636161804]   \n",
       "...                                             ...   \n",
       "362857  [-0.058136601001024246 -0.9188442826271057]   \n",
       "362858      [1.2870874404907227 0.5270840525627136]   \n",
       "362859      [1.1143873929977417 2.2200980186462402]   \n",
       "362860      [0.8463831543922424 1.1342076063156128]   \n",
       "362861    [-1.6833628416061401 -2.2203824520111084]   \n",
       "\n",
       "                                        photon_phi  \\\n",
       "0           [1.587436556816101 -1.533585548400879]   \n",
       "1        [-0.29423871636390686 0.5672937631607056]   \n",
       "2         [0.6559551954269409 -2.4571521282196045]   \n",
       "3         [-1.5148577690124512 1.7095263004302979]   \n",
       "4       [-2.951354503631592 -0.023520486429333687]   \n",
       "...                                            ...   \n",
       "362857    [-2.6306653022766113 1.5349340438842773]   \n",
       "362858      [0.431402325630188 0.8467892408370972]   \n",
       "362859     [2.3199832439422607 -1.107298731803894]   \n",
       "362860     [-1.699459195137024 0.5268324613571167]   \n",
       "362861     [0.6304593682289124 -2.183976650238037]   \n",
       "\n",
       "                               photon_E  diphoton_mass  \n",
       "0        [56908.45703125 57963.6328125]   65320.367188  \n",
       "1          [240922.3125 39806.98828125]  106420.710938  \n",
       "2         [293338.34375 119039.1328125]  223294.968750  \n",
       "3       [38350.19140625 44409.64453125]   77508.187500  \n",
       "4          [53306.27734375 35502.15625]   85259.531250  \n",
       "...                                 ...            ...  \n",
       "362857  [43118.53515625 58301.69921875]   81317.265625  \n",
       "362858   [113839.0390625 35681.3828125]   37628.792969  \n",
       "362859        [156258.1875 404675.3125]  205891.906250  \n",
       "362860       [106374.109375 80525.9375]  109320.015625  \n",
       "362861        [276210.375 134276.21875]  109426.585938  \n",
       "\n",
       "[362862 rows x 5 columns]"
      ]
     },
     "execution_count": 2,
     "metadata": {},
     "output_type": "execute_result"
    }
   ],
   "source": [
    "eventsData = uproot.open(\"data_Skim_GamGam.root\")[\"mini\"]\n",
    "df = eventsData.arrays([\"photon_pt\", \"photon_eta\", \"photon_phi\", \"photon_E\",  \"diphoton_mass\"], library=\"pd\")\n",
    "df"
   ]
  },
  {
   "cell_type": "markdown",
   "metadata": {},
   "source": [
    " NOTE - NONE OF THE REST OF THIS NOTEBOOK WILL RUN UNTIL YOU DOWNLOAD THE INPUT DATA AND SIMULATION FILES FROM HERE. \n",
    "\n",
    " - https://uctcloud-my.sharepoint.com/:f:/g/personal/01466689_wf_uct_ac_za/En-_dYktEINOu3XP2z3VDK8B3NCT_Wj7shIBVCcV72SkAg?e=cu1Ldy\n",
    "\n",
    " - PLACE ALL FILES IN THE SAME DIRECTORY AS THIS NOTEBOOK."
   ]
  },
  {
   "cell_type": "markdown",
   "metadata": {},
   "source": [
    "# Step 2. Apply a series of event selections\n",
    "    - only select events containing two photons with specific pt and eta"
   ]
  },
  {
   "cell_type": "code",
   "execution_count": 3,
   "metadata": {},
   "outputs": [
    {
     "name": "stdout",
     "output_type": "stream",
     "text": [
      "Number of selected events = 103940\n"
     ]
    },
    {
     "data": {
      "text/html": [
       "<div>\n",
       "<style scoped>\n",
       "    .dataframe tbody tr th:only-of-type {\n",
       "        vertical-align: middle;\n",
       "    }\n",
       "\n",
       "    .dataframe tbody tr th {\n",
       "        vertical-align: top;\n",
       "    }\n",
       "\n",
       "    .dataframe thead th {\n",
       "        text-align: right;\n",
       "    }\n",
       "</style>\n",
       "<table border=\"1\" class=\"dataframe\">\n",
       "  <thead>\n",
       "    <tr style=\"text-align: right;\">\n",
       "      <th></th>\n",
       "      <th>photon_pt</th>\n",
       "      <th>photon_eta</th>\n",
       "      <th>photon_phi</th>\n",
       "      <th>photon_E</th>\n",
       "      <th>diphoton_mass</th>\n",
       "    </tr>\n",
       "  </thead>\n",
       "  <tbody>\n",
       "    <tr>\n",
       "      <th>1</th>\n",
       "      <td>[176121.15625 39629.14453125]</td>\n",
       "      <td>[-0.8334919810295105 0.0947030708193779]</td>\n",
       "      <td>[-0.29423871636390686 0.5672937631607056]</td>\n",
       "      <td>[240922.3125 39806.98828125]</td>\n",
       "      <td>106420.710938</td>\n",
       "    </tr>\n",
       "    <tr>\n",
       "      <th>2</th>\n",
       "      <td>[100427.6796875 95522.5703125]</td>\n",
       "      <td>[1.7343542575836182 0.6880435943603516]</td>\n",
       "      <td>[0.6559551954269409 -2.4571521282196045]</td>\n",
       "      <td>[293338.34375 119039.1328125]</td>\n",
       "      <td>223294.968750</td>\n",
       "    </tr>\n",
       "    <tr>\n",
       "      <th>5</th>\n",
       "      <td>[59702.84375 36279.23046875]</td>\n",
       "      <td>[-0.49672460556030273 0.9447341561317444]</td>\n",
       "      <td>[-1.2497646808624268 1.4425605535507202]</td>\n",
       "      <td>[67220.9375 53709.8125]</td>\n",
       "      <td>116489.304688</td>\n",
       "    </tr>\n",
       "    <tr>\n",
       "      <th>6</th>\n",
       "      <td>[93071.2421875 50926.99609375]</td>\n",
       "      <td>[2.3203492164611816 1.053870677947998]</td>\n",
       "      <td>[-1.5707906484603882 1.293744683265686]</td>\n",
       "      <td>[478268.34375 81924.2109375]</td>\n",
       "      <td>165143.859375</td>\n",
       "    </tr>\n",
       "    <tr>\n",
       "      <th>7</th>\n",
       "      <td>[134294.21875 115627.078125]</td>\n",
       "      <td>[0.7709693312644958 0.49331459403038025]</td>\n",
       "      <td>[-0.5256499648094177 2.5920231342315674]</td>\n",
       "      <td>[176222.578125 129984.1953125]</td>\n",
       "      <td>251611.031250</td>\n",
       "    </tr>\n",
       "    <tr>\n",
       "      <th>...</th>\n",
       "      <td>...</td>\n",
       "      <td>...</td>\n",
       "      <td>...</td>\n",
       "      <td>...</td>\n",
       "      <td>...</td>\n",
       "    </tr>\n",
       "    <tr>\n",
       "      <th>362853</th>\n",
       "      <td>[177756.8125 158600.484375]</td>\n",
       "      <td>[-0.49995315074920654 0.22985273599624634]</td>\n",
       "      <td>[-0.8511518239974976 2.2011477947235107]</td>\n",
       "      <td>[200438.859375 162808.578125]</td>\n",
       "      <td>358104.375000</td>\n",
       "    </tr>\n",
       "    <tr>\n",
       "      <th>362856</th>\n",
       "      <td>[57474.22265625 55986.33984375]</td>\n",
       "      <td>[0.2081649750471115 0.1890438348054886]</td>\n",
       "      <td>[0.07692185044288635 -3.027287483215332]</td>\n",
       "      <td>[58723.98046875 56989.73046875]</td>\n",
       "      <td>113436.171875</td>\n",
       "    </tr>\n",
       "    <tr>\n",
       "      <th>362859</th>\n",
       "      <td>[92575.0390625 86869.7265625]</td>\n",
       "      <td>[1.1143873929977417 2.2200980186462402]</td>\n",
       "      <td>[2.3199832439422607 -1.107298731803894]</td>\n",
       "      <td>[156258.1875 404675.3125]</td>\n",
       "      <td>205891.906250</td>\n",
       "    </tr>\n",
       "    <tr>\n",
       "      <th>362860</th>\n",
       "      <td>[77078.1171875 46948.61328125]</td>\n",
       "      <td>[0.8463831543922424 1.1342076063156128]</td>\n",
       "      <td>[-1.699459195137024 0.5268324613571167]</td>\n",
       "      <td>[106374.109375 80525.9375]</td>\n",
       "      <td>109320.015625</td>\n",
       "    </tr>\n",
       "    <tr>\n",
       "      <th>362861</th>\n",
       "      <td>[99188.9453125 28816.4296875]</td>\n",
       "      <td>[-1.6833628416061401 -2.2203824520111084]</td>\n",
       "      <td>[0.6304593682289124 -2.183976650238037]</td>\n",
       "      <td>[276210.375 134276.21875]</td>\n",
       "      <td>109426.585938</td>\n",
       "    </tr>\n",
       "  </tbody>\n",
       "</table>\n",
       "<p>103940 rows × 5 columns</p>\n",
       "</div>"
      ],
      "text/plain": [
       "                              photon_pt  \\\n",
       "1         [176121.15625 39629.14453125]   \n",
       "2        [100427.6796875 95522.5703125]   \n",
       "5          [59702.84375 36279.23046875]   \n",
       "6        [93071.2421875 50926.99609375]   \n",
       "7          [134294.21875 115627.078125]   \n",
       "...                                 ...   \n",
       "362853      [177756.8125 158600.484375]   \n",
       "362856  [57474.22265625 55986.33984375]   \n",
       "362859    [92575.0390625 86869.7265625]   \n",
       "362860   [77078.1171875 46948.61328125]   \n",
       "362861    [99188.9453125 28816.4296875]   \n",
       "\n",
       "                                        photon_eta  \\\n",
       "1         [-0.8334919810295105 0.0947030708193779]   \n",
       "2          [1.7343542575836182 0.6880435943603516]   \n",
       "5        [-0.49672460556030273 0.9447341561317444]   \n",
       "6           [2.3203492164611816 1.053870677947998]   \n",
       "7         [0.7709693312644958 0.49331459403038025]   \n",
       "...                                            ...   \n",
       "362853  [-0.49995315074920654 0.22985273599624634]   \n",
       "362856     [0.2081649750471115 0.1890438348054886]   \n",
       "362859     [1.1143873929977417 2.2200980186462402]   \n",
       "362860     [0.8463831543922424 1.1342076063156128]   \n",
       "362861   [-1.6833628416061401 -2.2203824520111084]   \n",
       "\n",
       "                                       photon_phi  \\\n",
       "1       [-0.29423871636390686 0.5672937631607056]   \n",
       "2        [0.6559551954269409 -2.4571521282196045]   \n",
       "5        [-1.2497646808624268 1.4425605535507202]   \n",
       "6         [-1.5707906484603882 1.293744683265686]   \n",
       "7        [-0.5256499648094177 2.5920231342315674]   \n",
       "...                                           ...   \n",
       "362853   [-0.8511518239974976 2.2011477947235107]   \n",
       "362856   [0.07692185044288635 -3.027287483215332]   \n",
       "362859    [2.3199832439422607 -1.107298731803894]   \n",
       "362860    [-1.699459195137024 0.5268324613571167]   \n",
       "362861    [0.6304593682289124 -2.183976650238037]   \n",
       "\n",
       "                               photon_E  diphoton_mass  \n",
       "1          [240922.3125 39806.98828125]  106420.710938  \n",
       "2         [293338.34375 119039.1328125]  223294.968750  \n",
       "5               [67220.9375 53709.8125]  116489.304688  \n",
       "6          [478268.34375 81924.2109375]  165143.859375  \n",
       "7        [176222.578125 129984.1953125]  251611.031250  \n",
       "...                                 ...            ...  \n",
       "362853    [200438.859375 162808.578125]  358104.375000  \n",
       "362856  [58723.98046875 56989.73046875]  113436.171875  \n",
       "362859        [156258.1875 404675.3125]  205891.906250  \n",
       "362860       [106374.109375 80525.9375]  109320.015625  \n",
       "362861        [276210.375 134276.21875]  109426.585938  \n",
       "\n",
       "[103940 rows x 5 columns]"
      ]
     },
     "execution_count": 3,
     "metadata": {},
     "output_type": "execute_result"
    }
   ],
   "source": [
    "cuts0 = df[(df['photon_pt'].apply(lambda x: x[0]) > 35000) & (df['photon_pt'].apply(lambda x: x[1]) > 25000)]\n",
    "\n",
    "cuts1 = cuts0[(np.abs(cuts0['photon_eta'].apply(lambda x: x[0])) < 2.37) & (np.abs(cuts0['photon_eta'].apply(lambda x: x[1])) < 2.37)]\n",
    "\n",
    "# Alternative eta cut, selects central photons only\n",
    "# cuts1 = cuts0[(np.abs(cuts0['photon_eta'].apply(lambda x: x[0])) < 0.75) & (np.abs(cuts0['photon_eta'].apply(lambda x: x[1])) < 0.75)]\n",
    "\n",
    "# These cuts exclude a small region of the ATLAS detector known to have poor efficiency and resolution.\n",
    "cuts1a = cuts1[(np.abs(cuts1['photon_eta'].apply(lambda x: x[0])) < 1.37) | (np.abs(cuts1['photon_eta'].apply(lambda x: x[0])) > 1.52)]\n",
    "cuts1b = cuts1a[(np.abs(cuts1a['photon_eta'].apply(lambda x: x[1])) < 1.37) | (np.abs(cuts1a['photon_eta'].apply(lambda x: x[1])) > 1.52)]\n",
    "\n",
    "# Here we apply kinematic criteria that removes diphotons that are just random combinations\n",
    "cuts2a = cuts1b[(cuts1b['photon_pt'].apply(lambda x: x[0]) / cuts1b['diphoton_mass']) > 0.35]\n",
    "cuts2b = cuts2a[(cuts2a['photon_pt'].apply(lambda x: x[1]) / cuts2a['diphoton_mass']) > 0.25]\n",
    "\n",
    "# finally we only look in the diphoton mass regions close to the known higgs mass\n",
    "cuts3 = cuts2b[(cuts2b['diphoton_mass'].apply(lambda x: x)) > 105000.0]\n",
    "\n",
    "finalData = cuts3\n",
    "\n",
    "print(\"Number of selected events = \" + str(len(finalData.index)))\n",
    "finalData"
   ]
  },
  {
   "cell_type": "markdown",
   "metadata": {},
   "source": [
    "# Step 3. Combine the four vectors of the photons"
   ]
  },
  {
   "cell_type": "code",
   "execution_count": 4,
   "metadata": {},
   "outputs": [
    {
     "data": {
      "text/plain": [
       "MomentumNumpy4D([(204157.59375571, -0.14640164, -0.722338  , 280729.30078125),\n",
       "                 (  5643.00945451,  0.152879  ,  4.81109681, 412377.4765625 ),\n",
       "                 ( 31281.69056518, -0.72189963,  0.2750996 , 120930.75      ), ...,\n",
       "                 ( 26162.39434345, -2.75281467,  3.68544207, 560933.5       ),\n",
       "                 ( 61103.38624309, -1.04452859,  1.55844443, 186900.046875  ),\n",
       "                 ( 72494.806689  ,  0.50237323, -2.38161623, 410486.59375   )],\n",
       "                dtype=[('rho', '<f8'), ('phi', '<f8'), ('eta', '<f8'), ('t', '<f8')])"
      ]
     },
     "execution_count": 4,
     "metadata": {},
     "output_type": "execute_result"
    }
   ],
   "source": [
    "#first we make arrays of four-vectors for the muons. we make separate arrays for leading and sub-leading muons\n",
    "pt0 = finalData['photon_pt'].apply(lambda x: x[0]).to_numpy()\n",
    "eta0 = finalData['photon_eta'].apply(lambda x: x[0]).to_numpy()\n",
    "phi0 = finalData['photon_phi'].apply(lambda x: x[0]).to_numpy()\n",
    "E0 = finalData['photon_E'].apply(lambda x: x[0]).to_numpy()\n",
    "\n",
    "pt1 = finalData['photon_pt'].apply(lambda x: x[1]).to_numpy()\n",
    "eta1 = finalData['photon_eta'].apply(lambda x: x[1]).to_numpy()\n",
    "phi1 = finalData['photon_phi'].apply(lambda x: x[1]).to_numpy()\n",
    "E1 = finalData['photon_E'].apply(lambda x: x[1]).to_numpy()\n",
    "\n",
    "lvArray0 = vector.array(\n",
    "    {\n",
    "        \"pt\": pt0,\n",
    "        \"phi\": phi0,\n",
    "        \"eta\": eta0,\n",
    "        \"E\": E0,\n",
    "    }\n",
    ")\n",
    "\n",
    "lvArray1 = vector.array(\n",
    "    {\n",
    "        \"pt\": pt1,\n",
    "        \"phi\": phi1,\n",
    "        \"eta\": eta1,\n",
    "        \"E\": E1,\n",
    "    }\n",
    ")\n",
    "\n",
    "lvArray = lvArray0 + lvArray1\n",
    "lvArray\n"
   ]
  },
  {
   "cell_type": "markdown",
   "metadata": {},
   "source": [
    "# Step 4. Create a histogram of the masses of the diphoton system."
   ]
  },
  {
   "cell_type": "code",
   "execution_count": 5,
   "metadata": {},
   "outputs": [],
   "source": [
    "mH = 124894.0\n",
    "sigmaH = 210.0\n",
    "\n",
    "#example binning\n",
    "nBins = 30\n",
    "minMass = 105000\n",
    "maxMass = 160000\n",
    "\n",
    "countsData, edges = np.histogram(lvArray.mass, bins=nBins, range=(minMass,maxMass))\n",
    "\n",
    "#create an array of the centre of each bin, useful for plotting the pdf later\n",
    "centres = (edges[1:] + edges[:-1]) / 2"
   ]
  },
  {
   "cell_type": "markdown",
   "metadata": {},
   "source": [
    "# Step 5. Fit a background model to data and make a comparison plot.\n",
    "\n",
    "- create a statistical model for the diphoton mass distribution composed of of a gaussian ('norm') pdf for the $H\\rightarrow \\gamma \\gamma$ process and a third-order polynomial fuction for the background diphoton processes. The mean of the signal gauusian distribution is chosen as the measured $m_{H}$ value."
   ]
  },
  {
   "cell_type": "code",
   "execution_count": 6,
   "metadata": {},
   "outputs": [
    {
     "data": {
      "text/plain": [
       "<matplotlib.legend.Legend at 0x12c2fdab0>"
      ]
     },
     "execution_count": 6,
     "metadata": {},
     "output_type": "execute_result"
    },
    {
     "data": {
      "image/png": "[encoded data removed]",
      "text/plain": [
       "<Figure size 640x480 with 1 Axes>"
      ]
     },
     "metadata": {},
     "output_type": "display_data"
    }
   ],
   "source": [
    "b = np.poly1d(np.polyfit(centres, countsData, 3))\n",
    "\n",
    "#guess a signal integral for illustration purposes\n",
    "integral = 10113802.23\n",
    "\n",
    "s = ( scipy.stats.norm.pdf(centres, mH, sigmaH) * integral)\n",
    "sb = s+b(centres)\n",
    "\n",
    "plt.figure()\n",
    "plt.xlabel(\"$ m_{\\gamma\\gamma}$\")\n",
    "plt.ylabel(\"events per bin\")\n",
    "plt.plot(centres, s, 'b', linewidth=1, label=\"Potential Signal\")\n",
    "plt.plot(centres, b(centres), 'k', linewidth=1, linestyle=\"--\", label=\"Background\")\n",
    "plt.plot(centres, sb, 'r', linewidth=2, label=\"Signal+Background\")\n",
    "\n",
    "plt.errorbar(centres, countsData, yerr=np.sqrt(countsData), fmt='o', mfc='k', mec='k',ms=4, mew=0.2, ecolor='k',label=\"ATLAS Open Data\",)\n",
    "plt.legend()"
   ]
  },
  {
   "cell_type": "markdown",
   "metadata": {},
   "source": [
    "# Step 6. Create a plot of the binned \"residuals\" vs $m_{H}$\n",
    "\n",
    "- Subtract the polynomial background prediction from the data to calculate the \\emph{residuals}. \n",
    "- The residual in each bin is our estimate of the signal in that bin."
   ]
  },
  {
   "cell_type": "code",
   "execution_count": 7,
   "metadata": {},
   "outputs": [
    {
     "data": {
      "image/png": "[encoded data removed]",
      "text/plain": [
       "<Figure size 640x480 with 1 Axes>"
      ]
     },
     "metadata": {},
     "output_type": "display_data"
    },
    {
     "name": "stdout",
     "output_type": "stream",
     "text": [
      "CPU times: user 381 ms, sys: 78.3 ms, total: 459 ms\n",
      "Wall time: 235 ms\n"
     ]
    }
   ],
   "source": [
    "%%time\n",
    "#ratio plot \n",
    "residuals = countsData - b(centres) \n",
    "plt.figure()\n",
    "plt.xlabel(\"$ m_{\\gamma\\gamma}$\")\n",
    "plt.ylabel(\"Data - background\")\n",
    "plt.errorbar(centres, residuals, yerr=np.sqrt(countsData), label=\"Estimated Signal (Data - background)\", fmt='o', mfc='k', mec='k', mew=0.2, ecolor='k')\n",
    "\n",
    "nSteps = 100\n",
    "\n",
    "plt.plot(centres, s, 'b', linewidth=1, label=\"Potential signal\")\n",
    "plt.plot(centres, np.zeros(len(centres)), 'k', linewidth=1, linestyle=\"--\", label=\"Background\")\n",
    "plt.legend()\n",
    "plt.show()"
   ]
  },
  {
   "cell_type": "markdown",
   "metadata": {},
   "source": [
    "# Step 7.  Simultaneously fit  $m_{H}$, $\\Gamma_{H}$ and $N_{H\\rightarrow\\gamma\\gamma}$ from the residuals\n",
    "- If we assume the signal will have a gaussian shape with $\\mu \\approx m_{H} \\approx$ 125000 MeV, we can use python libraries to fit a gaussian distrubution to the residual graph and estimate the number of signal events $N_{H\\rightarrow\\gamma\\gamma}$ in the data as well as $m_{H}$ and $\\Gamma_{H}$."
   ]
  },
  {
   "cell_type": "code",
   "execution_count": 8,
   "metadata": {},
   "outputs": [
    {
     "name": "stdout",
     "output_type": "stream",
     "text": [
      "best fitting parameters:\n",
      "MH = 124437.52136005287\n",
      "sigmaH = 110.93544019327686\n",
      "NH = 728.2075326692104\n"
     ]
    },
    {
     "data": {
      "image/png": "[encoded data removed]",
      "text/plain": [
       "<Figure size 640x480 with 1 Axes>"
      ]
     },
     "metadata": {},
     "output_type": "display_data"
    }
   ],
   "source": [
    "#assume mass, sigma\n",
    "from scipy.optimize import curve_fit\n",
    "\n",
    "def gaussian(x, mean, amplitude, standard_deviation):\n",
    "    return amplitude * np.exp( - ((x - mean) / standard_deviation) ** 2)\n",
    "\n",
    "bestFitParams, covarianceMatrix = curve_fit(gaussian, centres, residuals, p0=[125000., 200., 1000.])\n",
    "\n",
    "#the p0 values are that the 'starting points' for 𝑚𝐻, Γ𝐻 and 𝑁𝐻→𝛾𝛾 in the fit.\n",
    "\n",
    "x_interval_for_fit = np.linspace(edges[0], edges[-1], 10000)\n",
    "plt.plot(x_interval_for_fit, gaussian(x_interval_for_fit, *bestFitParams), label='$ H \\gamma \\gamma$ signal')\n",
    "plt.errorbar(centres, residuals, yerr=np.sqrt(countsData), label=\"Data - Background\", fmt='o', mfc='k', mec='k', mew=0.2, ecolor='k')\n",
    "plt.legend()\n",
    "plt.xlabel(\"$ m_{\\gamma\\gamma}$\")\n",
    "plt.ylabel(\"Data - prediction\")\n",
    "\n",
    "# add the values of thr fitted signal shape at a series of points to estimate the total \n",
    "# number of signal events\n",
    "limA = 11500\n",
    "limA = 13500\n",
    "sigIntegral = 0.0\n",
    "stepSize = (maxMass - minMass)/(nSteps)\n",
    "\n",
    "xStep = minMass\n",
    "\n",
    "for p in range(0, nSteps):\n",
    "        xStep = xStep + stepSize\n",
    "        sigHeight = gaussian(xStep, *bestFitParams)\n",
    "        #print(sigHeight)\n",
    "        sigIntegral = (sigIntegral + (sigHeight) )\n",
    "\n",
    "print(\"best fitting parameters:\")\n",
    "print(\"MH = \" + str(float(bestFitParams[0])))\n",
    "print(\"sigmaH = \" + str(float(bestFitParams[1]) ))\n",
    "print(\"NH = \" + str(float(sigIntegral) ))"
   ]
  },
  {
   "cell_type": "markdown",
   "metadata": {},
   "source": [
    "# Step 8  Estimate the statistical significance of the $H\\rightarrow \\gamma \\gamma$ signal.\n",
    "\n",
    "\n"
   ]
  },
  {
   "cell_type": "code",
   "execution_count": 9,
   "metadata": {},
   "outputs": [],
   "source": [
    "#Your code goes here!"
   ]
  },
  {
   "cell_type": "markdown",
   "metadata": {},
   "source": [
    "# Step 9 - Your turn!\n",
    "\n",
    "It's time for you to try improvements to the analysis especially if they can improve the significance of the signal.\n",
    "Refer to the lab manual for suggested modifications.\n",
    "\n"
   ]
  }
 ],
 "metadata": {
  "kernelspec": {
   "display_name": "Python 3",
   "language": "python",
   "name": "python3"
  },
  "language_info": {
   "codemirror_mode": {
    "name": "ipython",
    "version": 3
   },
   "file_extension": ".py",
   "mimetype": "text/x-python",
   "name": "python",
   "nbconvert_exporter": "python",
   "pygments_lexer": "ipython3",
   "version": "3.10.4"
  }
 },
 "nbformat": 4,
 "nbformat_minor": 2
}
