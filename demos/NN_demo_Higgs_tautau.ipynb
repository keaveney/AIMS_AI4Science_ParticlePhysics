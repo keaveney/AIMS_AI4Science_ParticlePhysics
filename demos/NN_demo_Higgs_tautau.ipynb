{
 "cells": [
  {
   "cell_type": "markdown",
   "metadata": {
    "slideshow": {
     "slide_type": "slide"
    }
   },
   "source": [
    "# Weighting MC events when training ML algorithms\n",
    "\n",
    "- a review of the main considerations in weighting MC events\n",
    "- discuss different weighting strategies on **discovery significance** in binary classification\n",
    "     - using dataset from **Kaggle Higgs ML challenge** in 2014 to demo \n",
    "     - this is just a demo, not conclusive proof of the best weighting strategy\n",
    "     \n",
    "- ideas/thoughts on how to squeeze more significance out of the NN"
   ]
  },
  {
   "cell_type": "markdown",
   "metadata": {
    "slideshow": {
     "slide_type": "slide"
    }
   },
   "source": [
    "# How do we weight MC events in general?\n",
    "\n",
    "- we require our histograms to:\n",
    "   - represent our expected data under some hypothesis\n",
    "\n",
    "-  therefore the final weight must include:\n",
    "   - the cross section of the process, the luminosity\n",
    "   - weights (sometimes negative) produced by the MC generator\n",
    "   - weights that correct for known deficiences in the simulation\n",
    "       - e.g. b-tagging or trigger scale factors\n",
    "   \n",
    "$$ w_{final}  = \\sigma * \\mathcal{L} * w_{MC} * (w_{trigger} * w_{b-tagging} \\dots etc.) $$"
   ]
  },
  {
   "cell_type": "markdown",
   "metadata": {
    "slideshow": {
     "slide_type": "slide"
    }
   },
   "source": [
    "# What about when we are training an ML algorithm?\n",
    "\n",
    "- **optimally**, we want our training simulation to look like our data\n",
    "\n",
    "-  therefore the training simulation should include:\n",
    "   - the cross section of the process??, ~~the luminosity of the dataset~~\n",
    "   - weights (sometimes negative) produced by the MC generator\n",
    "   - weights that correct for known deficiences in the simulation\n",
    "       - e.g. b-tagging or trigger scale factors "
   ]
  },
  {
   "cell_type": "markdown",
   "metadata": {
    "slideshow": {
     "slide_type": "slide"
    }
   },
   "source": [
    "# In the case of a rare signal, this approach can lead to an undeperforming NN classifier!\n",
    "\n",
    "- NN aims to discriminate between labelled data classes: S and B ($t = 1,0$)\n",
    "- The NN output, $p(x)$ (discriminator), is the predicted probability for the S class \n",
    "- Training NN minimises a **loss function**  \n",
    "- The **loss function** is usually the *binary cross-entropy*:\n",
    "$$ C_{B} = \\sum_i - \\big[ ( t* \\ln p(x_i))  + (1-t)*(\\ln (1-p(x_i)) ) \\big] * w_{i}$$"
   ]
  },
  {
   "cell_type": "code",
   "execution_count": 1,
   "metadata": {},
   "outputs": [
    {
     "name": "stderr",
     "output_type": "stream",
     "text": [
      "Using TensorFlow backend.\n"
     ]
    }
   ],
   "source": [
    "import matplotlib\n",
    "matplotlib.rcParams['font.size'] = 16\n",
    "import matplotlib.pyplot as plt\n",
    "import keras\n",
    "import numpy as np\n",
    "import os\n",
    "from numpy import savetxt\n",
    "from numpy import loadtxt\n",
    "import pandas as pd\n",
    "from sklearn.model_selection import train_test_split\n",
    "from sklearn import preprocessing\n",
    "from keras.models import Sequential\n",
    "from keras.layers import Dense  \n",
    "from keras import backend as K"
   ]
  },
  {
   "cell_type": "code",
   "execution_count": 3,
   "metadata": {
    "slideshow": {
     "slide_type": "slide"
    }
   },
   "outputs": [
    {
     "name": "stderr",
     "output_type": "stream",
     "text": [
      "/Users/jameskeaveney/.virtualenvs/vpyenv/lib/python3.7/site-packages/ipykernel_launcher.py:6: RuntimeWarning: invalid value encountered in log\n",
      "  \n"
     ]
    },
    {
     "data": {
      "image/png": "[encoded data removed]",
      "text/plain": [
       "<Figure size 432x288 with 1 Axes>"
      ]
     },
     "metadata": {
      "needs_background": "light"
     },
     "output_type": "display_data"
    }
   ],
   "source": [
    "#plot binary cross entropy function\n",
    "x= np.linspace(0.01, 1.001, 100)\n",
    "\n",
    "fig, ax1 = plt.subplots()\n",
    "ax1.plot(x, -(np.log(x)), label=\"t=1 (signal)\",lw=5, alpha=0.6)\n",
    "ax1.plot(x, -(np.log(1.0-x)), label=\"t=0 (background)\",lw=5, alpha=0.6)\n",
    "\n",
    "plt.xlabel(\"p($x_i$)\")\n",
    "plt.ylabel(\"$C^{i}_{B}$\")\n",
    "#plt.xlabel(\"output \")\n",
    "#plt.ylabel(\"$C^{i}_{B}$\")\n",
    "plt.legend()\n",
    "plt.show()"
   ]
  },
  {
   "cell_type": "markdown",
   "metadata": {
    "slideshow": {
     "slide_type": "slide"
    }
   },
   "source": [
    "# Kaggle Higgs ML challenge\n",
    "\n",
    "- In 2014, Kaggle (online ML community) partnered with ATLAS to stage an ML competition\n",
    "- Teams were given signal ($H \\rightarrow\\tau \\tau$) and background ($Z \\rightarrow \\tau \\tau \\;, t\\bar{t} \\;, W \\rightarrow e/\\mu$) simulation\n",
    "- The best classification performance (best *Approximate Median Significance*) wins!\n",
    "\n",
    "    # I'll use this dataset to demo various weighting ideas\n"
   ]
  },
  {
   "cell_type": "code",
   "execution_count": 12,
   "metadata": {
    "slideshow": {
     "slide_type": "slide"
    }
   },
   "outputs": [
    {
     "name": "stdout",
     "output_type": "stream",
     "text": [
      "CPU times: user 2 µs, sys: 1e+03 ns, total: 3 µs\n",
      "Wall time: 4.77 µs\n"
     ]
    },
    {
     "data": {
      "text/html": [
       "<div>\n",
       "<style scoped>\n",
       "    .dataframe tbody tr th:only-of-type {\n",
       "        vertical-align: middle;\n",
       "    }\n",
       "\n",
       "    .dataframe tbody tr th {\n",
       "        vertical-align: top;\n",
       "    }\n",
       "\n",
       "    .dataframe thead th {\n",
       "        text-align: right;\n",
       "    }\n",
       "</style>\n",
       "<table border=\"1\" class=\"dataframe\">\n",
       "  <thead>\n",
       "    <tr style=\"text-align: right;\">\n",
       "      <th></th>\n",
       "      <th>EventId</th>\n",
       "      <th>DER_mass_MMC</th>\n",
       "      <th>DER_mass_transverse_met_lep</th>\n",
       "      <th>DER_mass_vis</th>\n",
       "      <th>DER_pt_h</th>\n",
       "      <th>DER_deltaeta_jet_jet</th>\n",
       "      <th>DER_mass_jet_jet</th>\n",
       "      <th>DER_prodeta_jet_jet</th>\n",
       "      <th>DER_deltar_tau_lep</th>\n",
       "      <th>DER_pt_tot</th>\n",
       "      <th>...</th>\n",
       "      <th>PRI_jet_leading_eta</th>\n",
       "      <th>PRI_jet_leading_phi</th>\n",
       "      <th>PRI_jet_subleading_pt</th>\n",
       "      <th>PRI_jet_subleading_eta</th>\n",
       "      <th>PRI_jet_subleading_phi</th>\n",
       "      <th>PRI_jet_all_pt</th>\n",
       "      <th>Weight</th>\n",
       "      <th>Label</th>\n",
       "      <th>KaggleSet</th>\n",
       "      <th>KaggleWeight</th>\n",
       "    </tr>\n",
       "  </thead>\n",
       "  <tbody>\n",
       "    <tr>\n",
       "      <td>0</td>\n",
       "      <td>100000</td>\n",
       "      <td>138.470</td>\n",
       "      <td>51.655</td>\n",
       "      <td>97.827</td>\n",
       "      <td>27.980</td>\n",
       "      <td>0.910</td>\n",
       "      <td>124.711</td>\n",
       "      <td>2.666</td>\n",
       "      <td>3.064</td>\n",
       "      <td>41.928</td>\n",
       "      <td>...</td>\n",
       "      <td>2.150</td>\n",
       "      <td>0.444</td>\n",
       "      <td>46.062</td>\n",
       "      <td>1.240</td>\n",
       "      <td>-2.475</td>\n",
       "      <td>113.497</td>\n",
       "      <td>0.000814</td>\n",
       "      <td>s</td>\n",
       "      <td>t</td>\n",
       "      <td>0.002653</td>\n",
       "    </tr>\n",
       "    <tr>\n",
       "      <td>1</td>\n",
       "      <td>100001</td>\n",
       "      <td>160.937</td>\n",
       "      <td>68.768</td>\n",
       "      <td>103.235</td>\n",
       "      <td>48.146</td>\n",
       "      <td>-999.000</td>\n",
       "      <td>-999.000</td>\n",
       "      <td>-999.000</td>\n",
       "      <td>3.473</td>\n",
       "      <td>2.078</td>\n",
       "      <td>...</td>\n",
       "      <td>0.725</td>\n",
       "      <td>1.158</td>\n",
       "      <td>-999.000</td>\n",
       "      <td>-999.000</td>\n",
       "      <td>-999.000</td>\n",
       "      <td>46.226</td>\n",
       "      <td>0.681042</td>\n",
       "      <td>b</td>\n",
       "      <td>t</td>\n",
       "      <td>2.233584</td>\n",
       "    </tr>\n",
       "    <tr>\n",
       "      <td>2</td>\n",
       "      <td>100002</td>\n",
       "      <td>-999.000</td>\n",
       "      <td>162.172</td>\n",
       "      <td>125.953</td>\n",
       "      <td>35.635</td>\n",
       "      <td>-999.000</td>\n",
       "      <td>-999.000</td>\n",
       "      <td>-999.000</td>\n",
       "      <td>3.148</td>\n",
       "      <td>9.336</td>\n",
       "      <td>...</td>\n",
       "      <td>2.053</td>\n",
       "      <td>-2.028</td>\n",
       "      <td>-999.000</td>\n",
       "      <td>-999.000</td>\n",
       "      <td>-999.000</td>\n",
       "      <td>44.251</td>\n",
       "      <td>0.715742</td>\n",
       "      <td>b</td>\n",
       "      <td>t</td>\n",
       "      <td>2.347389</td>\n",
       "    </tr>\n",
       "    <tr>\n",
       "      <td>3</td>\n",
       "      <td>100003</td>\n",
       "      <td>143.905</td>\n",
       "      <td>81.417</td>\n",
       "      <td>80.943</td>\n",
       "      <td>0.414</td>\n",
       "      <td>-999.000</td>\n",
       "      <td>-999.000</td>\n",
       "      <td>-999.000</td>\n",
       "      <td>3.310</td>\n",
       "      <td>0.414</td>\n",
       "      <td>...</td>\n",
       "      <td>-999.000</td>\n",
       "      <td>-999.000</td>\n",
       "      <td>-999.000</td>\n",
       "      <td>-999.000</td>\n",
       "      <td>-999.000</td>\n",
       "      <td>-0.000</td>\n",
       "      <td>1.660654</td>\n",
       "      <td>b</td>\n",
       "      <td>t</td>\n",
       "      <td>5.446378</td>\n",
       "    </tr>\n",
       "    <tr>\n",
       "      <td>4</td>\n",
       "      <td>100004</td>\n",
       "      <td>175.864</td>\n",
       "      <td>16.915</td>\n",
       "      <td>134.805</td>\n",
       "      <td>16.405</td>\n",
       "      <td>-999.000</td>\n",
       "      <td>-999.000</td>\n",
       "      <td>-999.000</td>\n",
       "      <td>3.891</td>\n",
       "      <td>16.405</td>\n",
       "      <td>...</td>\n",
       "      <td>-999.000</td>\n",
       "      <td>-999.000</td>\n",
       "      <td>-999.000</td>\n",
       "      <td>-999.000</td>\n",
       "      <td>-999.000</td>\n",
       "      <td>0.000</td>\n",
       "      <td>1.904263</td>\n",
       "      <td>b</td>\n",
       "      <td>t</td>\n",
       "      <td>6.245333</td>\n",
       "    </tr>\n",
       "    <tr>\n",
       "      <td>...</td>\n",
       "      <td>...</td>\n",
       "      <td>...</td>\n",
       "      <td>...</td>\n",
       "      <td>...</td>\n",
       "      <td>...</td>\n",
       "      <td>...</td>\n",
       "      <td>...</td>\n",
       "      <td>...</td>\n",
       "      <td>...</td>\n",
       "      <td>...</td>\n",
       "      <td>...</td>\n",
       "      <td>...</td>\n",
       "      <td>...</td>\n",
       "      <td>...</td>\n",
       "      <td>...</td>\n",
       "      <td>...</td>\n",
       "      <td>...</td>\n",
       "      <td>...</td>\n",
       "      <td>...</td>\n",
       "      <td>...</td>\n",
       "      <td>...</td>\n",
       "    </tr>\n",
       "    <tr>\n",
       "      <td>818233</td>\n",
       "      <td>918233</td>\n",
       "      <td>105.668</td>\n",
       "      <td>46.443</td>\n",
       "      <td>60.048</td>\n",
       "      <td>156.191</td>\n",
       "      <td>0.403</td>\n",
       "      <td>47.746</td>\n",
       "      <td>0.936</td>\n",
       "      <td>1.279</td>\n",
       "      <td>6.133</td>\n",
       "      <td>...</td>\n",
       "      <td>1.190</td>\n",
       "      <td>-0.766</td>\n",
       "      <td>41.791</td>\n",
       "      <td>0.787</td>\n",
       "      <td>-1.090</td>\n",
       "      <td>154.056</td>\n",
       "      <td>0.005721</td>\n",
       "      <td>s</td>\n",
       "      <td>u</td>\n",
       "      <td>0.259892</td>\n",
       "    </tr>\n",
       "    <tr>\n",
       "      <td>818234</td>\n",
       "      <td>918234</td>\n",
       "      <td>99.294</td>\n",
       "      <td>30.097</td>\n",
       "      <td>62.713</td>\n",
       "      <td>65.861</td>\n",
       "      <td>3.312</td>\n",
       "      <td>471.319</td>\n",
       "      <td>-2.611</td>\n",
       "      <td>2.294</td>\n",
       "      <td>2.889</td>\n",
       "      <td>...</td>\n",
       "      <td>1.293</td>\n",
       "      <td>-0.868</td>\n",
       "      <td>70.158</td>\n",
       "      <td>-2.018</td>\n",
       "      <td>2.893</td>\n",
       "      <td>178.856</td>\n",
       "      <td>0.000461</td>\n",
       "      <td>s</td>\n",
       "      <td>u</td>\n",
       "      <td>0.020956</td>\n",
       "    </tr>\n",
       "    <tr>\n",
       "      <td>818235</td>\n",
       "      <td>918235</td>\n",
       "      <td>108.497</td>\n",
       "      <td>9.837</td>\n",
       "      <td>65.149</td>\n",
       "      <td>18.006</td>\n",
       "      <td>-999.000</td>\n",
       "      <td>-999.000</td>\n",
       "      <td>-999.000</td>\n",
       "      <td>2.742</td>\n",
       "      <td>18.006</td>\n",
       "      <td>...</td>\n",
       "      <td>-999.000</td>\n",
       "      <td>-999.000</td>\n",
       "      <td>-999.000</td>\n",
       "      <td>-999.000</td>\n",
       "      <td>-999.000</td>\n",
       "      <td>-0.000</td>\n",
       "      <td>1.189365</td>\n",
       "      <td>b</td>\n",
       "      <td>u</td>\n",
       "      <td>53.284258</td>\n",
       "    </tr>\n",
       "    <tr>\n",
       "      <td>818236</td>\n",
       "      <td>918236</td>\n",
       "      <td>96.711</td>\n",
       "      <td>20.006</td>\n",
       "      <td>66.942</td>\n",
       "      <td>29.761</td>\n",
       "      <td>-999.000</td>\n",
       "      <td>-999.000</td>\n",
       "      <td>-999.000</td>\n",
       "      <td>2.479</td>\n",
       "      <td>2.739</td>\n",
       "      <td>...</td>\n",
       "      <td>1.460</td>\n",
       "      <td>2.637</td>\n",
       "      <td>-999.000</td>\n",
       "      <td>-999.000</td>\n",
       "      <td>-999.000</td>\n",
       "      <td>30.863</td>\n",
       "      <td>0.512740</td>\n",
       "      <td>b</td>\n",
       "      <td>u</td>\n",
       "      <td>22.971060</td>\n",
       "    </tr>\n",
       "    <tr>\n",
       "      <td>818237</td>\n",
       "      <td>918237</td>\n",
       "      <td>92.373</td>\n",
       "      <td>80.109</td>\n",
       "      <td>77.619</td>\n",
       "      <td>3.984</td>\n",
       "      <td>-999.000</td>\n",
       "      <td>-999.000</td>\n",
       "      <td>-999.000</td>\n",
       "      <td>2.486</td>\n",
       "      <td>3.984</td>\n",
       "      <td>...</td>\n",
       "      <td>-999.000</td>\n",
       "      <td>-999.000</td>\n",
       "      <td>-999.000</td>\n",
       "      <td>-999.000</td>\n",
       "      <td>-999.000</td>\n",
       "      <td>-0.000</td>\n",
       "      <td>1.531213</td>\n",
       "      <td>b</td>\n",
       "      <td>u</td>\n",
       "      <td>68.599269</td>\n",
       "    </tr>\n",
       "  </tbody>\n",
       "</table>\n",
       "<p>818238 rows × 35 columns</p>\n",
       "</div>"
      ],
      "text/plain": [
       "        EventId  DER_mass_MMC  DER_mass_transverse_met_lep  DER_mass_vis  \\\n",
       "0        100000       138.470                       51.655        97.827   \n",
       "1        100001       160.937                       68.768       103.235   \n",
       "2        100002      -999.000                      162.172       125.953   \n",
       "3        100003       143.905                       81.417        80.943   \n",
       "4        100004       175.864                       16.915       134.805   \n",
       "...         ...           ...                          ...           ...   \n",
       "818233   918233       105.668                       46.443        60.048   \n",
       "818234   918234        99.294                       30.097        62.713   \n",
       "818235   918235       108.497                        9.837        65.149   \n",
       "818236   918236        96.711                       20.006        66.942   \n",
       "818237   918237        92.373                       80.109        77.619   \n",
       "\n",
       "        DER_pt_h  DER_deltaeta_jet_jet  DER_mass_jet_jet  DER_prodeta_jet_jet  \\\n",
       "0         27.980                 0.910           124.711                2.666   \n",
       "1         48.146              -999.000          -999.000             -999.000   \n",
       "2         35.635              -999.000          -999.000             -999.000   \n",
       "3          0.414              -999.000          -999.000             -999.000   \n",
       "4         16.405              -999.000          -999.000             -999.000   \n",
       "...          ...                   ...               ...                  ...   \n",
       "818233   156.191                 0.403            47.746                0.936   \n",
       "818234    65.861                 3.312           471.319               -2.611   \n",
       "818235    18.006              -999.000          -999.000             -999.000   \n",
       "818236    29.761              -999.000          -999.000             -999.000   \n",
       "818237     3.984              -999.000          -999.000             -999.000   \n",
       "\n",
       "        DER_deltar_tau_lep  DER_pt_tot  ...  PRI_jet_leading_eta  \\\n",
       "0                    3.064      41.928  ...                2.150   \n",
       "1                    3.473       2.078  ...                0.725   \n",
       "2                    3.148       9.336  ...                2.053   \n",
       "3                    3.310       0.414  ...             -999.000   \n",
       "4                    3.891      16.405  ...             -999.000   \n",
       "...                    ...         ...  ...                  ...   \n",
       "818233               1.279       6.133  ...                1.190   \n",
       "818234               2.294       2.889  ...                1.293   \n",
       "818235               2.742      18.006  ...             -999.000   \n",
       "818236               2.479       2.739  ...                1.460   \n",
       "818237               2.486       3.984  ...             -999.000   \n",
       "\n",
       "        PRI_jet_leading_phi  PRI_jet_subleading_pt  PRI_jet_subleading_eta  \\\n",
       "0                     0.444                 46.062                   1.240   \n",
       "1                     1.158               -999.000                -999.000   \n",
       "2                    -2.028               -999.000                -999.000   \n",
       "3                  -999.000               -999.000                -999.000   \n",
       "4                  -999.000               -999.000                -999.000   \n",
       "...                     ...                    ...                     ...   \n",
       "818233               -0.766                 41.791                   0.787   \n",
       "818234               -0.868                 70.158                  -2.018   \n",
       "818235             -999.000               -999.000                -999.000   \n",
       "818236                2.637               -999.000                -999.000   \n",
       "818237             -999.000               -999.000                -999.000   \n",
       "\n",
       "        PRI_jet_subleading_phi  PRI_jet_all_pt    Weight  Label  KaggleSet  \\\n",
       "0                       -2.475         113.497  0.000814      s          t   \n",
       "1                     -999.000          46.226  0.681042      b          t   \n",
       "2                     -999.000          44.251  0.715742      b          t   \n",
       "3                     -999.000          -0.000  1.660654      b          t   \n",
       "4                     -999.000           0.000  1.904263      b          t   \n",
       "...                        ...             ...       ...    ...        ...   \n",
       "818233                  -1.090         154.056  0.005721      s          u   \n",
       "818234                   2.893         178.856  0.000461      s          u   \n",
       "818235                -999.000          -0.000  1.189365      b          u   \n",
       "818236                -999.000          30.863  0.512740      b          u   \n",
       "818237                -999.000          -0.000  1.531213      b          u   \n",
       "\n",
       "        KaggleWeight  \n",
       "0           0.002653  \n",
       "1           2.233584  \n",
       "2           2.347389  \n",
       "3           5.446378  \n",
       "4           6.245333  \n",
       "...              ...  \n",
       "818233      0.259892  \n",
       "818234      0.020956  \n",
       "818235     53.284258  \n",
       "818236     22.971060  \n",
       "818237     68.599269  \n",
       "\n",
       "[818238 rows x 35 columns]"
      ]
     },
     "execution_count": 12,
     "metadata": {},
     "output_type": "execute_result"
    }
   ],
   "source": [
    "%time\n",
    "df = pd.read_csv(\"atlas-higgs-challenge-2014-v2.csv\")\n",
    "df"
   ]
  },
  {
   "cell_type": "code",
   "execution_count": 13,
   "metadata": {
    "slideshow": {
     "slide_type": "slide"
    }
   },
   "outputs": [
    {
     "name": "stdout",
     "output_type": "stream",
     "text": [
      "Number of signal events = 279560\n",
      "Number of background events = 538678\n"
     ]
    }
   ],
   "source": [
    "#extract features, labels, and weights\n",
    "Labels=df['Label']\n",
    "\n",
    "lb = preprocessing.LabelBinarizer()\n",
    "labels = lb.fit_transform(Labels)\n",
    "features = df.iloc[:,1:31]\n",
    "\n",
    "X=features\n",
    "y=np.ravel(labels)\n",
    "\n",
    "print(\"Number of signal events = \" + str(np.count_nonzero(y == 1)))\n",
    "print(\"Number of background events = \" + str(np.count_nonzero(y == 0)))\n",
    "\n",
    "weights = df['Weight']\n",
    "weights=np.ravel(weights) \n",
    "\n",
    "X_train, X_test, y_train, y_test, weights_train, weights_test = train_test_split(X, y, weights, test_size=0.33, random_state=42, shuffle=True)"
   ]
  },
  {
   "cell_type": "markdown",
   "metadata": {
    "slideshow": {
     "slide_type": "slide"
    }
   },
   "source": [
    "# weighting strategies\n",
    "- 1. **ignore weights altogether**: \n",
    "     - the relative contribution of the S and B classes to the loss function will depend on how many MC events of each class you generated!! ¯\\_(ツ)_/¯\n",
    "     - relative contributions of processes within mixed background class won't correspond to the SM! ¯\\_(ツ)_/¯\n",
    "- 2. **use $w_{final}$**\n",
    "   - theoretically correct *weighted mixture* of processes\n",
    "   - rare signal hardly contributes to the loss function at all! \n",
    "      - classifying $\\approx$ all events as background would give $\\approx$ 100% accuracy\n",
    "- 3. **use $w_{final}$: but give signal events a final constant weight such that** $$\\sum w^b_i = \\sum w^s_i$$"
   ]
  },
  {
   "cell_type": "code",
   "execution_count": 21,
   "metadata": {
    "slideshow": {
     "slide_type": "slide"
    }
   },
   "outputs": [
    {
     "name": "stdout",
     "output_type": "stream",
     "text": [
      "275359.81893644715\n",
      "463.68266252689006\n",
      "593.8540324881748\n",
      "275359.8189364471\n"
     ]
    }
   ],
   "source": [
    "strategy = \"test\"\n",
    "\n",
    "# option 1 (ignore event weights, i.e., each event gets weight = 1.0) \n",
    "#final_weights_train = np.ones(len(weights_train)) \n",
    "#strategy = \"strategy_1\"\n",
    "\n",
    "# option 2 (apply final weight to each event)\n",
    "final_weights_train = weights_train  \n",
    "strategy = \"strategy_2\"\n",
    "\n",
    "# option 3 (apply final weight to each event, but give uniform weight to signal class to equalise sum of weights\n",
    "#takes some manipulation!) \n",
    "\n",
    "#df_train = pd.DataFrame()\n",
    "#df_train[\"label\"] = y_train\n",
    "#df_train[\"weights\"] = weights_train\n",
    "\n",
    "#sigSumWeights = np.sum(df_train[df_train[\"label\"]==1][\"weights\"])\n",
    "#bkgSumWeights = np.sum(df_train[df_train[\"label\"]==0][\"weights\"])\n",
    "\n",
    "#scale = (bkgSumWeights/sigSumWeights)\n",
    "#df_train.loc[df_train.label==1, \"weights\"] *= scale\n",
    "\n",
    "#modsigSumWeights = np.sum(df_train[df_train[\"label\"]==1][\"weights\"])\n",
    "\n",
    "print(bkgSumWeights)\n",
    "print(sigSumWeights)\n",
    "print(scale)\n",
    "print(modsigSumWeights)\n",
    "\n",
    "final_weights_train = df_train[\"weights\"]\n",
    "strategy = \"strategy_2\""
   ]
  },
  {
   "cell_type": "code",
   "execution_count": 22,
   "metadata": {
    "slideshow": {
     "slide_type": "slide"
    }
   },
   "outputs": [
    {
     "name": "stdout",
     "output_type": "stream",
     "text": [
      "Epoch 1/8\n",
      "548219/548219 [==============================] - 10s 17us/step - loss: -9.8073\n",
      "Epoch 2/8\n",
      "548219/548219 [==============================] - 10s 17us/step - loss: -12.2922\n",
      "Epoch 3/8\n",
      "548219/548219 [==============================] - 9s 16us/step - loss: -12.2995\n",
      "Epoch 4/8\n",
      "548219/548219 [==============================] - 9s 16us/step - loss: -10.4497\n",
      "Epoch 5/8\n",
      "548219/548219 [==============================] - 9s 16us/step - loss: -9.8173\n",
      "Epoch 6/8\n",
      "548219/548219 [==============================] - 9s 16us/step - loss: -8.7032\n",
      "Epoch 7/8\n",
      "548219/548219 [==============================] - 9s 16us/step - loss: -7.1942\n",
      "Epoch 8/8\n",
      "548219/548219 [==============================] - 9s 16us/step - loss: -7.1999\n"
     ]
    },
    {
     "data": {
      "text/plain": [
       "<keras.callbacks.callbacks.History at 0x1377ee690>"
      ]
     },
     "execution_count": 22,
     "metadata": {},
     "output_type": "execute_result"
    }
   ],
   "source": [
    "model = Sequential()\n",
    "model.add(Dense(15, input_dim=30, activation='relu', kernel_regularizer=None))\n",
    "model.add(Dense(15, activation='relu', kernel_regularizer=None))\n",
    "model.add(Dense(1, activation='sigmoid'))\n",
    "#model.compile(loss='binary_crossentropy', optimizer='adam')   \n",
    "model.compile(loss=sigLoss, optimizer='adam')   \n",
    "model.fit(X_train, y_train, sample_weight=final_weights_train, epochs=8, batch_size=100, verbose=1)"
   ]
  },
  {
   "cell_type": "code",
   "execution_count": 23,
   "metadata": {
    "slideshow": {
     "slide_type": "slide"
    }
   },
   "outputs": [
    {
     "data": {
      "image/png": "[encoded data removed]",
      "text/plain": [
       "<Figure size 432x288 with 1 Axes>"
      ]
     },
     "metadata": {
      "needs_background": "light"
     },
     "output_type": "display_data"
    }
   ],
   "source": [
    "# plot discriminator values for \"test\" portion of dataset not used in training \n",
    "pred_test = model.predict(X_test)\n",
    "\n",
    "df = pd.DataFrame()\n",
    "df[\"labels\"] = y_test\n",
    "df[\"predictions\"] = pred_test\n",
    "df[\"weights\"] = weights_test\n",
    "\n",
    "signalVals = df[df['labels']== 1] \n",
    "backgroundVals = df[df['labels']== 0] \n",
    "\n",
    "plt.figure()\n",
    "plt.xlabel(\"NN discriminant\")\n",
    "plt.ylabel(\"#exp. events\")\n",
    "\n",
    "bkgHist = plt.hist(backgroundVals[\"predictions\"], bins=5, weights=backgroundVals[\"weights\"],label=\"backgrounds\", range=[0,1], alpha=0.6)\n",
    "sigHist = plt.hist(signalVals[\"predictions\"], bins=5, weights=signalVals[\"weights\"],  label=r\"$H\\rightarrow \\tau\\tau$ signal\",range=[0,1], alpha=0.6)\n",
    "\n",
    "plt.legend()\n",
    "plt.yscale('log')\n",
    "plt.show()"
   ]
  },
  {
   "cell_type": "code",
   "execution_count": 24,
   "metadata": {
    "slideshow": {
     "slide_type": "slide"
    }
   },
   "outputs": [],
   "source": [
    "#extract signifcance vs. discriminant.\n",
    "bins = sigHist[1]\n",
    "nSig = sigHist[0]\n",
    "nBkg = bkgHist[0]\n",
    "\n",
    "binCentres = (bins[:-1] + bins[1:]) / 2\n",
    "width = bins[1] - bins[0]\n",
    "sigmas = np.array([])\n",
    "\n",
    "for x in range(0,len(binCentres)):\n",
    "    indices = [x, (len(binCentres)-1)] \n",
    "    if (nBkg[indices].sum() != 0):\n",
    "        sigma = (nSig[indices].sum()) / ( np.sqrt(nBkg[indices].sum() + nBkg[indices].sum() ))\n",
    "    else:\n",
    "        sigma = 0.001\n",
    "    sigmas = np.append(sigmas, sigma)\n",
    "\n",
    "csvName = strategy + \".csv\"\n",
    "savetxt(csvName, sigmas, delimiter=',')\n",
    "\n",
    "#now repeat for other stratgies"
   ]
  },
  {
   "cell_type": "code",
   "execution_count": 25,
   "metadata": {
    "slideshow": {
     "slide_type": "slide"
    }
   },
   "outputs": [
    {
     "data": {
      "image/png": "[encoded data removed]",
      "text/plain": [
       "<Figure size 432x288 with 1 Axes>"
      ]
     },
     "metadata": {
      "needs_background": "light"
     },
     "output_type": "display_data"
    }
   ],
   "source": [
    "#make comparison plot\n",
    "fig, ax1 = plt.subplots()\n",
    "plt.xlabel(\"NN discriminant cut value\")\n",
    "plt.ylabel(\"significance\")\n",
    "plt.yscale('log')\n",
    "\n",
    "strategies = [\"strategy_1\", \"strategy_2\", \"strategy_3\", \"strategy_4\",]\n",
    "\n",
    "for strategy in strategies:\n",
    "    csvName = strategy + \".csv\"\n",
    "    if (os.path.isfile(csvName)):\n",
    "        listSig = loadtxt(csvName, delimiter=',')\n",
    "        ax1.plot(binCentres, listSig, label=strategy, lw=5, alpha=0.6)\n",
    "plt.legend()    \n",
    "plt.show()"
   ]
  },
  {
   "cell_type": "markdown",
   "metadata": {
    "slideshow": {
     "slide_type": "slide"
    }
   },
   "source": [
    "# Could we do better? a few thoughts\n",
    "\n",
    "- We care about **significance** but we minmise **binary cross entropy**...\n",
    "\n",
    "- How about ** defining a loss function optimises the final physics result, e.g. discovery significance** $ L = 1 / (\\frac{s}{(\\sqrt{s+b}) + \\sigma_{b}})$\n",
    "  - has shown potential when systematics are large and considered in significance [arXiv:1806.00322]\n",
    "  \n",
    "- Alternatively, down-weight events that contribute more to systematics [arXiv:1809.07700]"
   ]
  },
  {
   "cell_type": "code",
   "execution_count": 19,
   "metadata": {},
   "outputs": [],
   "source": [
    "def sigLoss(y_true,y_pred):\n",
    "    #Continuous version:\n",
    "    expectedSignal = 1.0\n",
    "    expectedBkgd = 1.0\n",
    "\n",
    "#    signalWeight=expectedSignal/K.sum(y_true)\n",
    "#    bkgdWeight=expectedBkgd/K.sum(1-y_true)\n",
    "#    s = signalWeight*K.sum(y_pred*y_true)\n",
    "#    b = bkgdWeight*K.sum(y_pred*(1-y_true))\n",
    "\n",
    "    s = K.sum(y_pred*y_true)\n",
    "    b = K.sum(y_pred*(1-y_true))\n",
    "    \n",
    "    return -(s*s)/(s+b+K.epsilon()) #Add the epsilon to avoid dividing by 0 "
   ]
  }
 ],
 "metadata": {
  "celltoolbar": "Slideshow",
  "kernelspec": {
   "display_name": "Python 3",
   "language": "python",
   "name": "python3"
  },
  "language_info": {
   "codemirror_mode": {
    "name": "ipython",
    "version": 3
   },
   "file_extension": ".py",
   "mimetype": "text/x-python",
   "name": "python",
   "nbconvert_exporter": "python",
   "pygments_lexer": "ipython3",
   "version": "3.8.5"
  }
 },
 "nbformat": 4,
 "nbformat_minor": 2
}
